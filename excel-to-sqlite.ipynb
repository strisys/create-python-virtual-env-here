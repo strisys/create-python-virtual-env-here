{
  "nbformat": 4,
  "nbformat_minor": 0,
  "metadata": {
    "colab": {
      "provenance": [],
      "authorship_tag": "ABX9TyMrj1Rh7q1zFM4Q//9MoHeJ",
      "include_colab_link": true
    },
    "kernelspec": {
      "name": "python3",
      "display_name": "Python 3"
    },
    "language_info": {
      "name": "python"
    }
  },
  "cells": [
    {
      "cell_type": "markdown",
      "metadata": {
        "id": "view-in-github",
        "colab_type": "text"
      },
      "source": [
        "<a href=\"https://colab.research.google.com/github/strisys/create-python-virtual-env-here/blob/main/excel-to-sqlite.ipynb\" target=\"_parent\"><img src=\"https://colab.research.google.com/assets/colab-badge.svg\" alt=\"Open In Colab\"/></a>"
      ]
    },
    {
      "cell_type": "code",
      "execution_count": 3,
      "metadata": {
        "colab": {
          "base_uri": "https://localhost:8080/"
        },
        "id": "BLsOXRMIAK5f",
        "outputId": "204d704d-b086-4955-d08a-0bc621c831ed"
      },
      "outputs": [
        {
          "output_type": "stream",
          "name": "stdout",
          "text": [
            "/content\n",
            "Requirement already satisfied: pandas in /usr/local/lib/python3.10/dist-packages (2.0.3)\n",
            "Requirement already satisfied: python-dateutil>=2.8.2 in /usr/local/lib/python3.10/dist-packages (from pandas) (2.8.2)\n",
            "Requirement already satisfied: pytz>=2020.1 in /usr/local/lib/python3.10/dist-packages (from pandas) (2023.4)\n",
            "Requirement already satisfied: tzdata>=2022.1 in /usr/local/lib/python3.10/dist-packages (from pandas) (2024.1)\n",
            "Requirement already satisfied: numpy>=1.21.0 in /usr/local/lib/python3.10/dist-packages (from pandas) (1.25.2)\n",
            "Requirement already satisfied: six>=1.5 in /usr/local/lib/python3.10/dist-packages (from python-dateutil>=2.8.2->pandas) (1.16.0)\n"
          ]
        }
      ],
      "source": [
        "! pwd\n",
        "! pip install pandas"
      ]
    },
    {
      "cell_type": "code",
      "source": [
        "import pandas as pd\n",
        "import sqlite3\n",
        "\n",
        "def excel_to_sqlite(excel_file, sheets, sqlite_file):\n",
        "    # Read Excel file\n",
        "    xls = pd.ExcelFile(excel_file)\n",
        "\n",
        "    # Create SQLite connection\n",
        "    conn = sqlite3.connect(sqlite_file)\n",
        "\n",
        "    # Loop through sheets and write to SQLite\n",
        "    for sheet_name in sheets:\n",
        "        df = xls.parse(sheet_name)\n",
        "        df.to_sql(sheet_name, conn, index=False, if_exists='replace')\n",
        "\n",
        "    # Close connection\n",
        "    conn.close()\n",
        "\n",
        "# Example usage\n",
        "excel_file = \"sample_data/springeq-db.xlsx\"\n",
        "sheets = ['Conditions', 'Actives', 'Actions', 'Alerts', 'Exceptions', 'StatusFlow', 'StatusOrder', 'Tasks']\n",
        "sqlite_file = \"skibidi.db\"\n",
        "\n",
        "excel_to_sqlite(excel_file, sheets, sqlite_file)\n"
      ],
      "metadata": {
        "id": "BZxX9n0LAsJY"
      },
      "execution_count": 9,
      "outputs": []
    }
  ]
}